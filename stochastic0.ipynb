{
  "nbformat": 4,
  "nbformat_minor": 0,
  "metadata": {
    "colab": {
      "name": "stochastic0.ipynb",
      "version": "0.3.2",
      "provenance": [],
      "collapsed_sections": [],
      "include_colab_link": true
    },
    "kernelspec": {
      "display_name": "Python 3",
      "language": "python",
      "name": "python3"
    }
  },
  "cells": [
    {
      "cell_type": "markdown",
      "metadata": {
        "id": "view-in-github",
        "colab_type": "text"
      },
      "source": [
        "<a href=\"https://colab.research.google.com/github/ivvan18/Angular-D3-experience/blob/master/stochastic0.ipynb\" target=\"_parent\"><img src=\"https://colab.research.google.com/assets/colab-badge.svg\" alt=\"Open In Colab\"/></a>"
      ]
    },
    {
      "metadata": {
        "id": "SiOBJFrRiBEe",
        "colab_type": "code",
        "colab": {}
      },
      "cell_type": "code",
      "source": [
        "import numpy as np\n",
        "import matplotlib.pyplot as plt\n",
        "%matplotlib inline"
      ],
      "execution_count": 0,
      "outputs": []
    },
    {
      "metadata": {
        "id": "dWbzCMq5iBEi",
        "colab_type": "text"
      },
      "cell_type": "markdown",
      "source": [
        "## Методы оптимизации\n",
        "\n",
        "Как было показано на лекции, большинство методов машинного обучения сводятся к поиску параметров, которые минимизируют ошибку на тренировочной выборке:\n",
        "$$\n",
        "\\min_{w} L(w; D)\n",
        "$$\n",
        "Здесь:\n",
        "* $D$ — размеченная обучающая выборка, $\\{x_i, y_i\\}_{i=1}^N$\n",
        "* $L$ — функция потерь\n",
        "* $w$ — настраиваемые веса алгоритма\n",
        "\n",
        "В более общем виде задачу можно записать так:\n",
        "$$\n",
        "\\min_{x} f(x)\n",
        "$$\n",
        "Здесь:\n",
        "* $x$ — вектор значений\n",
        "* $f$ — функция, принимающая вектор в качестве аргумента и выдающая числовое значение.\n",
        "\n",
        "На семинаре рассмотрим подробнее методы минимизации функции, которые рассматривались на лекции."
      ]
    },
    {
      "metadata": {
        "id": "HLbjcgT8iBEi",
        "colab_type": "text"
      },
      "cell_type": "markdown",
      "source": [
        "## Градиентный спуск\n",
        "\n",
        "Для оптимизации возьмем простую функцию $f(x) = x^3 - 2x^2 + 2$"
      ]
    },
    {
      "metadata": {
        "id": "yAVPG6qgiBEj",
        "colab_type": "code",
        "colab": {
          "base_uri": "https://localhost:8080/",
          "height": 269
        },
        "outputId": "8f157419-c226-4ec4-aaf8-c715d9418a47"
      },
      "cell_type": "code",
      "source": [
        "f = lambda x: x ** 3 - 2*x ** 2 + 2\n",
        "df = lambda x: 3 * x ** 2 - 4 * x # производная\n",
        "x = np.linspace(-1, 2.5, 1000)\n",
        "plt.plot(x, f(x))\n",
        "plt.xlim([-1, 2.5])\n",
        "plt.ylim([0, 3])\n",
        "plt.show()"
      ],
      "execution_count": 17,
      "outputs": [
        {
          "output_type": "display_data",
          "data": {
            "image/png": "[encoded data removed]",
            "text/plain": [
              "<matplotlib.figure.Figure at 0x7fba2cb8d940>"
            ]
          },
          "metadata": {
            "tags": []
          }
        }
      ]
    },
    {
      "metadata": {
        "id": "fs6iN_K4iBEm",
        "colab_type": "text"
      },
      "cell_type": "markdown",
      "source": [
        "И определим функцию, которая будет оптимизировать функцию $f(x)$ градиентным спуском с заданным постоянным шагом (он же learning rate, темп обучения)."
      ]
    },
    {
      "metadata": {
        "id": "S_u6V9kciBEm",
        "colab_type": "code",
        "colab": {}
      },
      "cell_type": "code",
      "source": [
        "def optimize_and_plot_steps(learning_rate, x_new=2, compute_learning_rate=None):\n",
        "    x_old = 0\n",
        "    # x_new — точка старта\n",
        "    eps = 0.0001\n",
        "    x_list, y_list = [x_new], [f(x_new)] # инициализируем список координат и значений функций при итерации\n",
        "    \n",
        "    # спускаемся, пока разница между координатами не достигла требуемой точности\n",
        "    i = 0\n",
        "    while abs(x_new - x_old) > eps:\n",
        "        # обновляем значение темпа обучения, если нам задана функция для этого\n",
        "        if compute_learning_rate is not None:\n",
        "            learning_rate = compute_learning_rate(i, learning_rate)\n",
        "            \n",
        "        x_old = x_new\n",
        "        # считаем направление спуска\n",
        "        # делаем шаг\n",
        "        # Ваш код здесь!\n",
        "        x_new = x_old - learning_rate * df(x_old)\n",
        "        \n",
        "        # запоминаем очередной шаг минимизации\n",
        "        x_list.append(x_new)\n",
        "        y_list.append(f(x_new))\n",
        "        i += 1\n",
        "        \n",
        "    print(\"Найденный локальный минимум:\", x_new)\n",
        "    print(\"Количество шагов:\", len(x_list))\n",
        "    \n",
        "    plt.figure(figsize=[10,3])\n",
        "    \n",
        "    plt.subplot(1,2,1)\n",
        "    plt.scatter(x_list, y_list, c=\"r\", edgecolors='k')\n",
        "    plt.plot(x_list, y_list, c=\"r\")\n",
        "    plt.plot(x, f(x), c=\"b\")\n",
        "    plt.xlim([-1,2.5])\n",
        "    plt.ylim([0,3])\n",
        "    plt.title(\"Descent trajectory\")\n",
        "\n",
        "    plt.subplot(1,2,2)\n",
        "    plt.scatter(x_list,y_list,c=\"r\", edgecolors='k')\n",
        "    plt.plot(x_list,y_list,c=\"r\")\n",
        "    plt.plot(x,f(x), c=\"b\")\n",
        "    plt.xlim([1.2,2.1])\n",
        "    plt.ylim([0,3])\n",
        "    plt.title(\"Descent trajectory (zoomed in)\")\n",
        "    plt.show()"
      ],
      "execution_count": 0,
      "outputs": []
    },
    {
      "metadata": {
        "id": "_APJaV9viBEp",
        "colab_type": "text"
      },
      "cell_type": "markdown",
      "source": [
        "Попробуем оптимизацию с шагом 0.1"
      ]
    },
    {
      "metadata": {
        "id": "a06kroAyiBEp",
        "colab_type": "code",
        "colab": {
          "base_uri": "https://localhost:8080/",
          "height": 260
        },
        "outputId": "48ad61e6-4b97-4aba-c104-ae82d21a1371"
      },
      "cell_type": "code",
      "source": [
        "optimize_and_plot_steps(0.1)"
      ],
      "execution_count": 19,
      "outputs": [
        {
          "output_type": "stream",
          "text": [
            "Найденный локальный минимум: 1.3334253508453249\n",
            "Количество шагов: 17\n"
          ],
          "name": "stdout"
        },
        {
          "output_type": "display_data",
          "data": {
            "image/png": "[encoded data removed]",
            "text/plain": [
              "<matplotlib.figure.Figure at 0x7fba2f42f358>"
            ]
          },
          "metadata": {
            "tags": []
          }
        }
      ]
    },
    {
      "metadata": {
        "id": "LBWKlqfViBEs",
        "colab_type": "text"
      },
      "cell_type": "markdown",
      "source": [
        "Возьмем шаг побольше."
      ]
    },
    {
      "metadata": {
        "id": "aj0i-WGHiBEs",
        "colab_type": "code",
        "colab": {
          "base_uri": "https://localhost:8080/",
          "height": 260
        },
        "outputId": "5edf4657-66f0-4e46-a09c-03781195d4c1"
      },
      "cell_type": "code",
      "source": [
        "optimize_and_plot_steps(0.4)"
      ],
      "execution_count": 20,
      "outputs": [
        {
          "output_type": "stream",
          "text": [
            "Найденный локальный минимум: 1.3333020223878838\n",
            "Количество шагов: 15\n"
          ],
          "name": "stdout"
        },
        {
          "output_type": "display_data",
          "data": {
            "image/png": "[encoded data removed]",
            "text/plain": [
              "<matplotlib.figure.Figure at 0x7fba2c9877f0>"
            ]
          },
          "metadata": {
            "tags": []
          }
        }
      ]
    },
    {
      "metadata": {
        "id": "SmbQfhGZiBEu",
        "colab_type": "text"
      },
      "cell_type": "markdown",
      "source": [
        "Что, если взять 0.5?"
      ]
    },
    {
      "metadata": {
        "id": "N3Z2MUMNiBEv",
        "colab_type": "code",
        "colab": {
          "base_uri": "https://localhost:8080/",
          "height": 260
        },
        "outputId": "cd859647-3d43-473a-c493-dc98577108cc"
      },
      "cell_type": "code",
      "source": [
        "optimize_and_plot_steps(0.5)"
      ],
      "execution_count": 21,
      "outputs": [
        {
          "output_type": "stream",
          "text": [
            "Найденный локальный минимум: 0.0\n",
            "Количество шагов: 3\n"
          ],
          "name": "stdout"
        },
        {
          "output_type": "display_data",
          "data": {
            "image/png": "[encoded data removed]",
            "text/plain": [
              "<matplotlib.figure.Figure at 0x7fba2c7e6470>"
            ]
          },
          "metadata": {
            "tags": []
          }
        }
      ]
    },
    {
      "metadata": {
        "id": "ywdcg_VJiBEx",
        "colab_type": "text"
      },
      "cell_type": "markdown",
      "source": [
        "Застопорились в нуле, т.к. нашли точный локальный максимум. В нем производная равна нулю и мы никуда не можем сдвинуться. А если взять 0.49?"
      ]
    },
    {
      "metadata": {
        "id": "VNE_fJWRiBEy",
        "colab_type": "code",
        "colab": {
          "base_uri": "https://localhost:8080/",
          "height": 260
        },
        "outputId": "dc3ef386-c029-4ad8-fb2d-77fdc9f2a8a0"
      },
      "cell_type": "code",
      "source": [
        "optimize_and_plot_steps(0.49)"
      ],
      "execution_count": 22,
      "outputs": [
        {
          "output_type": "stream",
          "text": [
            "Найденный локальный минимум: 1.3333812706364907\n",
            "Количество шагов: 188\n"
          ],
          "name": "stdout"
        },
        {
          "output_type": "display_data",
          "data": {
            "image/png": "[encoded data removed]",
            "text/plain": [
              "<matplotlib.figure.Figure at 0x7fba2c83e550>"
            ]
          },
          "metadata": {
            "tags": []
          }
        }
      ]
    },
    {
      "metadata": {
        "id": "-cNtFQo2iBE0",
        "colab_type": "text"
      },
      "cell_type": "markdown",
      "source": [
        "Что, если взять 0.51?"
      ]
    },
    {
      "metadata": {
        "id": "20rngbspiBE1",
        "colab_type": "code",
        "colab": {
          "base_uri": "https://localhost:8080/",
          "height": 402
        },
        "outputId": "0444b4c6-37d0-4cd1-d3da-a2c987bd74fd"
      },
      "cell_type": "code",
      "source": [
        "optimize_and_plot_steps(0.51)"
      ],
      "execution_count": 23,
      "outputs": [
        {
          "output_type": "error",
          "ename": "OverflowError",
          "evalue": "ignored",
          "traceback": [
            "\u001b[0;31m---------------------------------------------------------------------------\u001b[0m",
            "\u001b[0;31mOverflowError\u001b[0m                             Traceback (most recent call last)",
            "\u001b[0;32m<ipython-input-23-19173c019366>\u001b[0m in \u001b[0;36m<module>\u001b[0;34m()\u001b[0m\n\u001b[0;32m----> 1\u001b[0;31m \u001b[0moptimize_and_plot_steps\u001b[0m\u001b[0;34m(\u001b[0m\u001b[0;36m0.51\u001b[0m\u001b[0;34m)\u001b[0m\u001b[0;34m\u001b[0m\u001b[0m\n\u001b[0m",
            "\u001b[0;32m<ipython-input-18-16b0b6bc40dc>\u001b[0m in \u001b[0;36moptimize_and_plot_steps\u001b[0;34m(learning_rate, x_new, compute_learning_rate)\u001b[0m\n\u001b[1;32m     20\u001b[0m         \u001b[0;31m# запоминаем очередной шаг минимизации\u001b[0m\u001b[0;34m\u001b[0m\u001b[0;34m\u001b[0m\u001b[0m\n\u001b[1;32m     21\u001b[0m         \u001b[0mx_list\u001b[0m\u001b[0;34m.\u001b[0m\u001b[0mappend\u001b[0m\u001b[0;34m(\u001b[0m\u001b[0mx_new\u001b[0m\u001b[0;34m)\u001b[0m\u001b[0;34m\u001b[0m\u001b[0m\n\u001b[0;32m---> 22\u001b[0;31m         \u001b[0my_list\u001b[0m\u001b[0;34m.\u001b[0m\u001b[0mappend\u001b[0m\u001b[0;34m(\u001b[0m\u001b[0mf\u001b[0m\u001b[0;34m(\u001b[0m\u001b[0mx_new\u001b[0m\u001b[0;34m)\u001b[0m\u001b[0;34m)\u001b[0m\u001b[0;34m\u001b[0m\u001b[0m\n\u001b[0m\u001b[1;32m     23\u001b[0m         \u001b[0mi\u001b[0m \u001b[0;34m+=\u001b[0m \u001b[0;36m1\u001b[0m\u001b[0;34m\u001b[0m\u001b[0m\n\u001b[1;32m     24\u001b[0m \u001b[0;34m\u001b[0m\u001b[0m\n",
            "\u001b[0;32m<ipython-input-17-f487f45784f1>\u001b[0m in \u001b[0;36m<lambda>\u001b[0;34m(x)\u001b[0m\n\u001b[0;32m----> 1\u001b[0;31m \u001b[0mf\u001b[0m \u001b[0;34m=\u001b[0m \u001b[0;32mlambda\u001b[0m \u001b[0mx\u001b[0m\u001b[0;34m:\u001b[0m \u001b[0mx\u001b[0m \u001b[0;34m**\u001b[0m \u001b[0;36m3\u001b[0m \u001b[0;34m-\u001b[0m \u001b[0;36m2\u001b[0m\u001b[0;34m*\u001b[0m\u001b[0mx\u001b[0m \u001b[0;34m**\u001b[0m \u001b[0;36m2\u001b[0m \u001b[0;34m+\u001b[0m \u001b[0;36m2\u001b[0m\u001b[0;34m\u001b[0m\u001b[0m\n\u001b[0m\u001b[1;32m      2\u001b[0m \u001b[0mdf\u001b[0m \u001b[0;34m=\u001b[0m \u001b[0;32mlambda\u001b[0m \u001b[0mx\u001b[0m\u001b[0;34m:\u001b[0m \u001b[0;36m3\u001b[0m \u001b[0;34m*\u001b[0m \u001b[0mx\u001b[0m \u001b[0;34m**\u001b[0m \u001b[0;36m2\u001b[0m \u001b[0;34m-\u001b[0m \u001b[0;36m4\u001b[0m \u001b[0;34m*\u001b[0m \u001b[0mx\u001b[0m \u001b[0;31m# производная\u001b[0m\u001b[0;34m\u001b[0m\u001b[0m\n\u001b[1;32m      3\u001b[0m \u001b[0mx\u001b[0m \u001b[0;34m=\u001b[0m \u001b[0mnp\u001b[0m\u001b[0;34m.\u001b[0m\u001b[0mlinspace\u001b[0m\u001b[0;34m(\u001b[0m\u001b[0;34m-\u001b[0m\u001b[0;36m1\u001b[0m\u001b[0;34m,\u001b[0m \u001b[0;36m2.5\u001b[0m\u001b[0;34m,\u001b[0m \u001b[0;36m1000\u001b[0m\u001b[0;34m)\u001b[0m\u001b[0;34m\u001b[0m\u001b[0m\n\u001b[1;32m      4\u001b[0m \u001b[0mplt\u001b[0m\u001b[0;34m.\u001b[0m\u001b[0mplot\u001b[0m\u001b[0;34m(\u001b[0m\u001b[0mx\u001b[0m\u001b[0;34m,\u001b[0m \u001b[0mf\u001b[0m\u001b[0;34m(\u001b[0m\u001b[0mx\u001b[0m\u001b[0;34m)\u001b[0m\u001b[0;34m)\u001b[0m\u001b[0;34m\u001b[0m\u001b[0m\n\u001b[1;32m      5\u001b[0m \u001b[0mplt\u001b[0m\u001b[0;34m.\u001b[0m\u001b[0mxlim\u001b[0m\u001b[0;34m(\u001b[0m\u001b[0;34m[\u001b[0m\u001b[0;34m-\u001b[0m\u001b[0;36m1\u001b[0m\u001b[0;34m,\u001b[0m \u001b[0;36m2.5\u001b[0m\u001b[0;34m]\u001b[0m\u001b[0;34m)\u001b[0m\u001b[0;34m\u001b[0m\u001b[0m\n",
            "\u001b[0;31mOverflowError\u001b[0m: (34, 'Numerical result out of range')"
          ]
        }
      ]
    },
    {
      "metadata": {
        "id": "w0cGit6diBE3",
        "colab_type": "text"
      },
      "cell_type": "markdown",
      "source": [
        "Мы улетели далеко влево. Это можно понять, распечатав значения x_new."
      ]
    },
    {
      "metadata": {
        "id": "FnRFyZQKiBE4",
        "colab_type": "text"
      },
      "cell_type": "markdown",
      "source": [
        "Теперь возьмём маленький шаг. Например, 0.05."
      ]
    },
    {
      "metadata": {
        "id": "UgRTz5tmiBE4",
        "colab_type": "code",
        "colab": {
          "base_uri": "https://localhost:8080/",
          "height": 260
        },
        "outputId": "df714e21-f803-470c-d7d3-8553c0845835"
      },
      "cell_type": "code",
      "source": [
        "optimize_and_plot_steps(0.05)"
      ],
      "execution_count": 24,
      "outputs": [
        {
          "output_type": "stream",
          "text": [
            "Найденный локальный минимум: 1.3337297312792562\n",
            "Количество шагов: 32\n"
          ],
          "name": "stdout"
        },
        {
          "output_type": "display_data",
          "data": {
            "image/png": "[encoded data removed]",
            "text/plain": [
              "<matplotlib.figure.Figure at 0x7fba2c9da518>"
            ]
          },
          "metadata": {
            "tags": []
          }
        }
      ]
    },
    {
      "metadata": {
        "id": "Uva2pCzXiBE6",
        "colab_type": "text"
      },
      "cell_type": "markdown",
      "source": [
        "0.01?"
      ]
    },
    {
      "metadata": {
        "id": "n4JZKfERiBE7",
        "colab_type": "code",
        "colab": {
          "base_uri": "https://localhost:8080/",
          "height": 260
        },
        "outputId": "31f40403-ca54-413b-a876-42ea911ef717"
      },
      "cell_type": "code",
      "source": [
        "optimize_and_plot_steps(0.01)"
      ],
      "execution_count": 25,
      "outputs": [
        {
          "output_type": "stream",
          "text": [
            "Найденный локальный минимум: 1.3356881625009205\n",
            "Количество шагов: 129\n"
          ],
          "name": "stdout"
        },
        {
          "output_type": "display_data",
          "data": {
            "image/png": "[encoded data removed]",
            "text/plain": [
              "<matplotlib.figure.Figure at 0x7fba2c9cdc50>"
            ]
          },
          "metadata": {
            "tags": []
          }
        }
      ]
    },
    {
      "metadata": {
        "id": "-ffmxUXZiBE-",
        "colab_type": "text"
      },
      "cell_type": "markdown",
      "source": [
        "Чем меньше шаг, тем медленнее мы идём к минимум (и можем вдобавок застрять по пути). Чем больше темп обучения, тем большие расстояния мы перепрыгиваем (и имеем гипотетическую возможность найти минимум получше). Хорошая стратегия — начинать с достаточно большого шага (чтобы хорошо попутешествовать по функции), а потом постепенно его уменьшать, чтобы стабилизировать процесс обучения в каком-то локальном минимуме."
      ]
    },
    {
      "metadata": {
        "id": "Zw91YQr-iBE_",
        "colab_type": "text"
      },
      "cell_type": "markdown",
      "source": [
        "Теперь будем изменять шаг динамически:\n",
        "$lr(i + 1) = lr(i) * 0.9$."
      ]
    },
    {
      "metadata": {
        "id": "Rx0n8dRriBE_",
        "colab_type": "code",
        "colab": {}
      },
      "cell_type": "code",
      "source": [
        "def compute_learning_rate(i, prev_lr):\n",
        "    return prev_lr * 0.9"
      ],
      "execution_count": 0,
      "outputs": []
    },
    {
      "metadata": {
        "id": "Ndm1GSRYiBFD",
        "colab_type": "code",
        "colab": {
          "base_uri": "https://localhost:8080/",
          "height": 260
        },
        "outputId": "802b3510-5158-4fed-e1e3-344b6b19b279"
      },
      "cell_type": "code",
      "source": [
        "optimize_and_plot_steps(0.4, compute_learning_rate=compute_learning_rate)"
      ],
      "execution_count": 27,
      "outputs": [
        {
          "output_type": "stream",
          "text": [
            "Найденный локальный минимум: 1.3333376009455882\n",
            "Количество шагов: 7\n"
          ],
          "name": "stdout"
        },
        {
          "output_type": "display_data",
          "data": {
            "image/png": "[encoded data removed]",
            "text/plain": [
              "<matplotlib.figure.Figure at 0x7fba2c5eb0f0>"
            ]
          },
          "metadata": {
            "tags": []
          }
        }
      ]
    },
    {
      "metadata": {
        "id": "Mc7yXR-3iBFE",
        "colab_type": "text"
      },
      "cell_type": "markdown",
      "source": [
        "Если сравнивать с постоянным темпом обучения, то мы нашли минимум в 2 раза быстрее."
      ]
    },
    {
      "metadata": {
        "id": "E1E-IbjxiBFF",
        "colab_type": "code",
        "colab": {
          "base_uri": "https://localhost:8080/",
          "height": 260
        },
        "outputId": "6512be17-daa1-48ff-e7e7-851d77501f28"
      },
      "cell_type": "code",
      "source": [
        "optimize_and_plot_steps(0.4)"
      ],
      "execution_count": 28,
      "outputs": [
        {
          "output_type": "stream",
          "text": [
            "Найденный локальный минимум: 1.3333020223878838\n",
            "Количество шагов: 15\n"
          ],
          "name": "stdout"
        },
        {
          "output_type": "display_data",
          "data": {
            "image/png": "[encoded data removed]",
            "text/plain": [
              "<matplotlib.figure.Figure at 0x7fba2c5bd908>"
            ]
          },
          "metadata": {
            "tags": []
          }
        }
      ]
    },
    {
      "metadata": {
        "id": "xeTJjp94iBFH",
        "colab_type": "text"
      },
      "cell_type": "markdown",
      "source": [
        "Это, конечно, искуственный пример, но такая же идея используются для обучения алгоритмов машинного обучения с миллионами параметров, функции потерь которых имеют очень сложную структуру и не поддаются визуализации."
      ]
    },
    {
      "metadata": {
        "id": "nmBGcsXviBFH",
        "colab_type": "text"
      },
      "cell_type": "markdown",
      "source": [
        "## Настройка линейной регрессии с помощью градиентного спуска\n",
        "\n",
        "Рассмотрим теперь реальные данные и попробуем использовать градиентный спуск для решения задачи линейной регрессии."
      ]
    },
    {
      "metadata": {
        "id": "MJgCi0ObiBFH",
        "colab_type": "text"
      },
      "cell_type": "markdown",
      "source": [
        "Загрузите файл food_trucks.txt. В нём два столбца значений — количество жителей в городе и доход грузовика с уличной едой в этом городе."
      ]
    },
    {
      "metadata": {
        "id": "jX3_OdBbiBFJ",
        "colab_type": "code",
        "colab": {
          "resources": {
            "http://localhost:8080/nbextensions/google.colab/files.js": {
              "data": "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",
              "ok": true,
              "headers": [
                [
                  "content-type",
                  "application/javascript"
                ]
              ],
              "status": 200,
              "status_text": ""
            }
          },
          "base_uri": "https://localhost:8080/",
          "height": 69
        },
        "outputId": "48aa640e-87b1-443d-cfc0-dc28ca7c953a"
      },
      "cell_type": "code",
      "source": [
        "import pandas as pd\n",
        "import io\n",
        "from google.colab import files\n",
        "uploaded = files.upload()\n",
        "\n",
        "df = pd.read_csv(io.StringIO(uploaded['food_trucks.txt'].decode('utf-8')))"
      ],
      "execution_count": 17,
      "outputs": [
        {
          "output_type": "display_data",
          "data": {
            "text/html": [
              "\n",
              "     <input type=\"file\" id=\"files-e8064341-52fd-4472-b54c-036deba14eac\" name=\"files[]\" multiple disabled />\n",
              "     <output id=\"result-e8064341-52fd-4472-b54c-036deba14eac\">\n",
              "      Upload widget is only available when the cell has been executed in the\n",
              "      current browser session. Please rerun this cell to enable.\n",
              "      </output>\n",
              "      <script src=\"/nbextensions/google.colab/files.js\"></script> "
            ],
            "text/plain": [
              "<IPython.core.display.HTML object>"
            ]
          },
          "metadata": {
            "tags": []
          }
        },
        {
          "output_type": "stream",
          "text": [
            "Saving food_trucks.txt to food_trucks (2).txt\n"
          ],
          "name": "stdout"
        }
      ]
    },
    {
      "metadata": {
        "id": "2T_o3GEK-wS9",
        "colab_type": "code",
        "colab": {}
      },
      "cell_type": "code",
      "source": [
        "df.columns = [\"citizen_amount\", \"track_profit\"]"
      ],
      "execution_count": 0,
      "outputs": []
    },
    {
      "metadata": {
        "id": "Y4EBFIm--6cd",
        "colab_type": "code",
        "colab": {
          "base_uri": "https://localhost:8080/",
          "height": 1969
        },
        "outputId": "0c4a0fc3-3393-4a65-8327-c9b4750c7c5a"
      },
      "cell_type": "code",
      "source": [
        "df"
      ],
      "execution_count": 19,
      "outputs": [
        {
          "output_type": "execute_result",
          "data": {
            "text/html": [
              "<div>\n",
              "<style scoped>\n",
              "    .dataframe tbody tr th:only-of-type {\n",
              "        vertical-align: middle;\n",
              "    }\n",
              "\n",
              "    .dataframe tbody tr th {\n",
              "        vertical-align: top;\n",
              "    }\n",
              "\n",
              "    .dataframe thead th {\n",
              "        text-align: right;\n",
              "    }\n",
              "</style>\n",
              "<table border=\"1\" class=\"dataframe\">\n",
              "  <thead>\n",
              "    <tr style=\"text-align: right;\">\n",
              "      <th></th>\n",
              "      <th>citizen_amount</th>\n",
              "      <th>track_profit</th>\n",
              "    </tr>\n",
              "  </thead>\n",
              "  <tbody>\n",
              "    <tr>\n",
              "      <th>0</th>\n",
              "      <td>5.5277</td>\n",
              "      <td>9.13020</td>\n",
              "    </tr>\n",
              "    <tr>\n",
              "      <th>1</th>\n",
              "      <td>8.5186</td>\n",
              "      <td>13.66200</td>\n",
              "    </tr>\n",
              "    <tr>\n",
              "      <th>2</th>\n",
              "      <td>7.0032</td>\n",
              "      <td>11.85400</td>\n",
              "    </tr>\n",
              "    <tr>\n",
              "      <th>3</th>\n",
              "      <td>5.8598</td>\n",
              "      <td>6.82330</td>\n",
              "    </tr>\n",
              "    <tr>\n",
              "      <th>4</th>\n",
              "      <td>8.3829</td>\n",
              "      <td>11.88600</td>\n",
              "    </tr>\n",
              "    <tr>\n",
              "      <th>5</th>\n",
              "      <td>7.4764</td>\n",
              "      <td>4.34830</td>\n",
              "    </tr>\n",
              "    <tr>\n",
              "      <th>6</th>\n",
              "      <td>8.5781</td>\n",
              "      <td>12.00000</td>\n",
              "    </tr>\n",
              "    <tr>\n",
              "      <th>7</th>\n",
              "      <td>6.4862</td>\n",
              "      <td>6.59870</td>\n",
              "    </tr>\n",
              "    <tr>\n",
              "      <th>8</th>\n",
              "      <td>5.0546</td>\n",
              "      <td>3.81660</td>\n",
              "    </tr>\n",
              "    <tr>\n",
              "      <th>9</th>\n",
              "      <td>5.7107</td>\n",
              "      <td>3.25220</td>\n",
              "    </tr>\n",
              "    <tr>\n",
              "      <th>10</th>\n",
              "      <td>14.1640</td>\n",
              "      <td>15.50500</td>\n",
              "    </tr>\n",
              "    <tr>\n",
              "      <th>11</th>\n",
              "      <td>5.7340</td>\n",
              "      <td>3.15510</td>\n",
              "    </tr>\n",
              "    <tr>\n",
              "      <th>12</th>\n",
              "      <td>8.4084</td>\n",
              "      <td>7.22580</td>\n",
              "    </tr>\n",
              "    <tr>\n",
              "      <th>13</th>\n",
              "      <td>5.6407</td>\n",
              "      <td>0.71618</td>\n",
              "    </tr>\n",
              "    <tr>\n",
              "      <th>14</th>\n",
              "      <td>5.3794</td>\n",
              "      <td>3.51290</td>\n",
              "    </tr>\n",
              "    <tr>\n",
              "      <th>15</th>\n",
              "      <td>6.3654</td>\n",
              "      <td>5.30480</td>\n",
              "    </tr>\n",
              "    <tr>\n",
              "      <th>16</th>\n",
              "      <td>5.1301</td>\n",
              "      <td>0.56077</td>\n",
              "    </tr>\n",
              "    <tr>\n",
              "      <th>17</th>\n",
              "      <td>6.4296</td>\n",
              "      <td>3.65180</td>\n",
              "    </tr>\n",
              "    <tr>\n",
              "      <th>18</th>\n",
              "      <td>7.0708</td>\n",
              "      <td>5.38930</td>\n",
              "    </tr>\n",
              "    <tr>\n",
              "      <th>19</th>\n",
              "      <td>6.1891</td>\n",
              "      <td>3.13860</td>\n",
              "    </tr>\n",
              "    <tr>\n",
              "      <th>20</th>\n",
              "      <td>20.2700</td>\n",
              "      <td>21.76700</td>\n",
              "    </tr>\n",
              "    <tr>\n",
              "      <th>21</th>\n",
              "      <td>5.4901</td>\n",
              "      <td>4.26300</td>\n",
              "    </tr>\n",
              "    <tr>\n",
              "      <th>22</th>\n",
              "      <td>6.3261</td>\n",
              "      <td>5.18750</td>\n",
              "    </tr>\n",
              "    <tr>\n",
              "      <th>23</th>\n",
              "      <td>5.5649</td>\n",
              "      <td>3.08250</td>\n",
              "    </tr>\n",
              "    <tr>\n",
              "      <th>24</th>\n",
              "      <td>18.9450</td>\n",
              "      <td>22.63800</td>\n",
              "    </tr>\n",
              "    <tr>\n",
              "      <th>25</th>\n",
              "      <td>12.8280</td>\n",
              "      <td>13.50100</td>\n",
              "    </tr>\n",
              "    <tr>\n",
              "      <th>26</th>\n",
              "      <td>10.9570</td>\n",
              "      <td>7.04670</td>\n",
              "    </tr>\n",
              "    <tr>\n",
              "      <th>27</th>\n",
              "      <td>13.1760</td>\n",
              "      <td>14.69200</td>\n",
              "    </tr>\n",
              "    <tr>\n",
              "      <th>28</th>\n",
              "      <td>22.2030</td>\n",
              "      <td>24.14700</td>\n",
              "    </tr>\n",
              "    <tr>\n",
              "      <th>29</th>\n",
              "      <td>5.2524</td>\n",
              "      <td>-1.22000</td>\n",
              "    </tr>\n",
              "    <tr>\n",
              "      <th>...</th>\n",
              "      <td>...</td>\n",
              "      <td>...</td>\n",
              "    </tr>\n",
              "    <tr>\n",
              "      <th>66</th>\n",
              "      <td>10.2360</td>\n",
              "      <td>7.77540</td>\n",
              "    </tr>\n",
              "    <tr>\n",
              "      <th>67</th>\n",
              "      <td>5.4994</td>\n",
              "      <td>1.01730</td>\n",
              "    </tr>\n",
              "    <tr>\n",
              "      <th>68</th>\n",
              "      <td>20.3410</td>\n",
              "      <td>20.99200</td>\n",
              "    </tr>\n",
              "    <tr>\n",
              "      <th>69</th>\n",
              "      <td>10.1360</td>\n",
              "      <td>6.67990</td>\n",
              "    </tr>\n",
              "    <tr>\n",
              "      <th>70</th>\n",
              "      <td>7.3345</td>\n",
              "      <td>4.02590</td>\n",
              "    </tr>\n",
              "    <tr>\n",
              "      <th>71</th>\n",
              "      <td>6.0062</td>\n",
              "      <td>1.27840</td>\n",
              "    </tr>\n",
              "    <tr>\n",
              "      <th>72</th>\n",
              "      <td>7.2259</td>\n",
              "      <td>3.34110</td>\n",
              "    </tr>\n",
              "    <tr>\n",
              "      <th>73</th>\n",
              "      <td>5.0269</td>\n",
              "      <td>-2.68070</td>\n",
              "    </tr>\n",
              "    <tr>\n",
              "      <th>74</th>\n",
              "      <td>6.5479</td>\n",
              "      <td>0.29678</td>\n",
              "    </tr>\n",
              "    <tr>\n",
              "      <th>75</th>\n",
              "      <td>7.5386</td>\n",
              "      <td>3.88450</td>\n",
              "    </tr>\n",
              "    <tr>\n",
              "      <th>76</th>\n",
              "      <td>5.0365</td>\n",
              "      <td>5.70140</td>\n",
              "    </tr>\n",
              "    <tr>\n",
              "      <th>77</th>\n",
              "      <td>10.2740</td>\n",
              "      <td>6.75260</td>\n",
              "    </tr>\n",
              "    <tr>\n",
              "      <th>78</th>\n",
              "      <td>5.1077</td>\n",
              "      <td>2.05760</td>\n",
              "    </tr>\n",
              "    <tr>\n",
              "      <th>79</th>\n",
              "      <td>5.7292</td>\n",
              "      <td>0.47953</td>\n",
              "    </tr>\n",
              "    <tr>\n",
              "      <th>80</th>\n",
              "      <td>5.1884</td>\n",
              "      <td>0.20421</td>\n",
              "    </tr>\n",
              "    <tr>\n",
              "      <th>81</th>\n",
              "      <td>6.3557</td>\n",
              "      <td>0.67861</td>\n",
              "    </tr>\n",
              "    <tr>\n",
              "      <th>82</th>\n",
              "      <td>9.7687</td>\n",
              "      <td>7.54350</td>\n",
              "    </tr>\n",
              "    <tr>\n",
              "      <th>83</th>\n",
              "      <td>6.5159</td>\n",
              "      <td>5.34360</td>\n",
              "    </tr>\n",
              "    <tr>\n",
              "      <th>84</th>\n",
              "      <td>8.5172</td>\n",
              "      <td>4.24150</td>\n",
              "    </tr>\n",
              "    <tr>\n",
              "      <th>85</th>\n",
              "      <td>9.1802</td>\n",
              "      <td>6.79810</td>\n",
              "    </tr>\n",
              "    <tr>\n",
              "      <th>86</th>\n",
              "      <td>6.0020</td>\n",
              "      <td>0.92695</td>\n",
              "    </tr>\n",
              "    <tr>\n",
              "      <th>87</th>\n",
              "      <td>5.5204</td>\n",
              "      <td>0.15200</td>\n",
              "    </tr>\n",
              "    <tr>\n",
              "      <th>88</th>\n",
              "      <td>5.0594</td>\n",
              "      <td>2.82140</td>\n",
              "    </tr>\n",
              "    <tr>\n",
              "      <th>89</th>\n",
              "      <td>5.7077</td>\n",
              "      <td>1.84510</td>\n",
              "    </tr>\n",
              "    <tr>\n",
              "      <th>90</th>\n",
              "      <td>7.6366</td>\n",
              "      <td>4.29590</td>\n",
              "    </tr>\n",
              "    <tr>\n",
              "      <th>91</th>\n",
              "      <td>5.8707</td>\n",
              "      <td>7.20290</td>\n",
              "    </tr>\n",
              "    <tr>\n",
              "      <th>92</th>\n",
              "      <td>5.3054</td>\n",
              "      <td>1.98690</td>\n",
              "    </tr>\n",
              "    <tr>\n",
              "      <th>93</th>\n",
              "      <td>8.2934</td>\n",
              "      <td>0.14454</td>\n",
              "    </tr>\n",
              "    <tr>\n",
              "      <th>94</th>\n",
              "      <td>13.3940</td>\n",
              "      <td>9.05510</td>\n",
              "    </tr>\n",
              "    <tr>\n",
              "      <th>95</th>\n",
              "      <td>5.4369</td>\n",
              "      <td>0.61705</td>\n",
              "    </tr>\n",
              "  </tbody>\n",
              "</table>\n",
              "<p>96 rows × 2 columns</p>\n",
              "</div>"
            ],
            "text/plain": [
              "    citizen_amount  track_profit\n",
              "0           5.5277       9.13020\n",
              "1           8.5186      13.66200\n",
              "2           7.0032      11.85400\n",
              "3           5.8598       6.82330\n",
              "4           8.3829      11.88600\n",
              "5           7.4764       4.34830\n",
              "6           8.5781      12.00000\n",
              "7           6.4862       6.59870\n",
              "8           5.0546       3.81660\n",
              "9           5.7107       3.25220\n",
              "10         14.1640      15.50500\n",
              "11          5.7340       3.15510\n",
              "12          8.4084       7.22580\n",
              "13          5.6407       0.71618\n",
              "14          5.3794       3.51290\n",
              "15          6.3654       5.30480\n",
              "16          5.1301       0.56077\n",
              "17          6.4296       3.65180\n",
              "18          7.0708       5.38930\n",
              "19          6.1891       3.13860\n",
              "20         20.2700      21.76700\n",
              "21          5.4901       4.26300\n",
              "22          6.3261       5.18750\n",
              "23          5.5649       3.08250\n",
              "24         18.9450      22.63800\n",
              "25         12.8280      13.50100\n",
              "26         10.9570       7.04670\n",
              "27         13.1760      14.69200\n",
              "28         22.2030      24.14700\n",
              "29          5.2524      -1.22000\n",
              "..             ...           ...\n",
              "66         10.2360       7.77540\n",
              "67          5.4994       1.01730\n",
              "68         20.3410      20.99200\n",
              "69         10.1360       6.67990\n",
              "70          7.3345       4.02590\n",
              "71          6.0062       1.27840\n",
              "72          7.2259       3.34110\n",
              "73          5.0269      -2.68070\n",
              "74          6.5479       0.29678\n",
              "75          7.5386       3.88450\n",
              "76          5.0365       5.70140\n",
              "77         10.2740       6.75260\n",
              "78          5.1077       2.05760\n",
              "79          5.7292       0.47953\n",
              "80          5.1884       0.20421\n",
              "81          6.3557       0.67861\n",
              "82          9.7687       7.54350\n",
              "83          6.5159       5.34360\n",
              "84          8.5172       4.24150\n",
              "85          9.1802       6.79810\n",
              "86          6.0020       0.92695\n",
              "87          5.5204       0.15200\n",
              "88          5.0594       2.82140\n",
              "89          5.7077       1.84510\n",
              "90          7.6366       4.29590\n",
              "91          5.8707       7.20290\n",
              "92          5.3054       1.98690\n",
              "93          8.2934       0.14454\n",
              "94         13.3940       9.05510\n",
              "95          5.4369       0.61705\n",
              "\n",
              "[96 rows x 2 columns]"
            ]
          },
          "metadata": {
            "tags": []
          },
          "execution_count": 19
        }
      ]
    },
    {
      "metadata": {
        "id": "8XvtbaK8iBFL",
        "colab_type": "text"
      },
      "cell_type": "markdown",
      "source": [
        "Визуализируйте данные. По оси X — население города, по оси Y — доход грузовика."
      ]
    },
    {
      "metadata": {
        "id": "ScpEQg5ViBFM",
        "colab_type": "code",
        "colab": {
          "base_uri": "https://localhost:8080/",
          "height": 297
        },
        "outputId": "bb464549-11e7-46c9-f697-a3d3c2fed82f"
      },
      "cell_type": "code",
      "source": [
        "df.plot(x='citizen_amount', y='track_profit', style='o')"
      ],
      "execution_count": 20,
      "outputs": [
        {
          "output_type": "execute_result",
          "data": {
            "text/plain": [
              "<matplotlib.axes._subplots.AxesSubplot at 0x7fb7faa64160>"
            ]
          },
          "metadata": {
            "tags": []
          },
          "execution_count": 20
        },
        {
          "output_type": "display_data",
          "data": {
            "image/png": "[encoded data removed]",
            "text/plain": [
              "<matplotlib.figure.Figure at 0x7fb7faa5edd8>"
            ]
          },
          "metadata": {
            "tags": []
          }
        }
      ]
    },
    {
      "metadata": {
        "id": "XrHJJgfliBFQ",
        "colab_type": "text"
      },
      "cell_type": "markdown",
      "source": [
        "Вспомним функцию потерь линейной регрессии:\n",
        "$$\n",
        "L(w) = \\frac{1}{2m} \\sum_{i=1}^m (h(x^i, w) - y^i)^2\n",
        "$$\n",
        "Здесь $h(x, w) = w^Tx = w_0 + w_1 x_1$ (предполагается, что $x_0=1$ — дополнительный признак для удобства).\n",
        "$(x^i, y^i)$ — i-ый объект выборки.\n",
        "Тогда правило обновления весов будет выглядеть следующим образом:\n",
        "$$\n",
        "w_j = w_j - \\eta \\cdot \\frac{1}{m}\\sum_{i=1}^m(h(x^i, w) - y^i) x^i_j.\n",
        "$$\n",
        "Здесь $x^i_j$ — j-ая компонента i-ого объекта."
      ]
    },
    {
      "metadata": {
        "id": "o5Kq8IhFiBFQ",
        "colab_type": "text"
      },
      "cell_type": "markdown",
      "source": [
        "Определите функцию потерь и её производную. Эти функции имеют один аргумент — вектор весов $w$."
      ]
    },
    {
      "metadata": {
        "id": "018SOeqZLtrC",
        "colab_type": "code",
        "colab": {}
      },
      "cell_type": "code",
      "source": [
        "X = df['citizen_amount']\n",
        "Y = df['track_profit']"
      ],
      "execution_count": 0,
      "outputs": []
    },
    {
      "metadata": {
        "id": "SntQJoZqL1ps",
        "colab_type": "code",
        "colab": {}
      },
      "cell_type": "code",
      "source": [
        "X = np.transpose([np.array(X)])\n",
        "Y = np.array(Y)"
      ],
      "execution_count": 0,
      "outputs": []
    },
    {
      "metadata": {
        "id": "hcum6KmKRdgx",
        "colab_type": "code",
        "colab": {}
      },
      "cell_type": "code",
      "source": [
        "ones = np.ones((len(X), 1))\n",
        "X = np.append(X, ones, axis=1)"
      ],
      "execution_count": 0,
      "outputs": []
    },
    {
      "metadata": {
        "id": "d7DJu9OgiBFQ",
        "colab_type": "code",
        "colab": {}
      },
      "cell_type": "code",
      "source": [
        "regression_model = lambda x, w: w[0]*x[1] + w[1]*x[0]\n",
        "def loss(w): \n",
        "  last_action = 1/(2*len(X))\n",
        "  sum = 0\n",
        "  for i in range(0, len(X)):\n",
        "      sum = sum + (regression_model(X[i], w) - Y[i])**2\n",
        "  return sum * last_action\n",
        "      \n",
        "def loss_derivative(w, is_zero_weight): \n",
        "  last_action = 1/len(X)\n",
        "  sum = 0\n",
        "  for i in range(0, len(X)):\n",
        "    if (is_zero_weight):\n",
        "      sum = sum + (regression_model(X[i], w) - Y[i])\n",
        "    else:\n",
        "      sum = sum + (regression_model(X[i], w) - Y[i])*X[i, 0]\n",
        "  return sum * last_action"
      ],
      "execution_count": 0,
      "outputs": []
    },
    {
      "metadata": {
        "id": "Np_sdFH8iBFS",
        "colab_type": "text"
      },
      "cell_type": "markdown",
      "source": [
        "Напишите функцию минимизации $L(w)$ с помощью градиентного спуска, аналогичную optimize_and_plot_steps. На вход она принимает параметры обучения (темп обучения и начальное значение весов), оптимизирует итеративно функцию потерь, печатает итерации и визуализирует уменьшение функции потерь и найденное решение. Запустите функцию с постоянным темпом обучения и прокомментируйте результаты."
      ]
    },
    {
      "metadata": {
        "id": "rcegmje8iBFT",
        "colab_type": "code",
        "colab": {}
      },
      "cell_type": "code",
      "source": [
        "weights = [2, 2]\n",
        "\n",
        "def optimize_and_plot_steps(learning_rate, w_new=[2, 2], compute_learning_rate=None):\n",
        "    w_old = [0, 0]\n",
        "    # x_new — точка старта\n",
        "    eps = 0.0001\n",
        "#     x_list, y_list = [x_new], [f(x_new)] # инициализируем список координат и значений функций при итерации\n",
        "    \n",
        "    # спускаемся, пока разница между координатами не достигла требуемой точности\n",
        "    i = 0\n",
        "    while abs(w_new[0] - w_old[0]) > eps or abs(w_new[1] - w_old[1]) > eps:\n",
        "        # обновляем значение темпа обучения, если нам задана функция для этого\n",
        "        if compute_learning_rate is not None:\n",
        "            learning_rate = compute_learning_rate(i, learning_rate)\n",
        "            \n",
        "        w_old = w_new\n",
        "        # считаем направление спуска\n",
        "        # делаем шаг\n",
        "        # Ваш код здесь!\n",
        "        w_new[0] = w_old[0] - learning_rate * loss_derivative(w_old, True)\n",
        "        w_new[1] = w_old[1] - learning_rate * loss_derivative(w_old, False)\n",
        "\n",
        "        \n",
        "        # запоминаем очередной шаг минимизации\n",
        "#         x_list.append(x_new)\n",
        "#         y_list.append(f(x_new))\n",
        "        i += 1\n",
        "        \n",
        "    print(\"Найденный локальный минимум:\", w_new)\n",
        "    print(\"Количество шагов:\", i)\n",
        "    \n",
        "#     plt.figure(figsize=[10,3])\n",
        "    \n",
        "#     plt.subplot(1,2,1)\n",
        "#     plt.scatter(x_list, y_list, c=\"r\", edgecolors='k')\n",
        "#     plt.plot(x_list, y_list, c=\"r\")\n",
        "#     plt.plot(x, f(x), c=\"b\")\n",
        "#     plt.xlim([-1,2.5])\n",
        "#     plt.ylim([0,3])\n",
        "#     plt.title(\"Descent trajectory\")\n",
        "\n",
        "#     plt.subplot(1,2,2)\n",
        "#     plt.scatter(x_list,y_list,c=\"r\", edgecolors='k')\n",
        "#     plt.plot(x_list,y_list,c=\"r\")\n",
        "#     plt.plot(x,f(x), c=\"b\")\n",
        "#     plt.xlim([1.2,2.1])\n",
        "#     plt.ylim([0,3])\n",
        "#     plt.title(\"Descent trajectory (zoomed in)\")\n",
        "#     plt.show()"
      ],
      "execution_count": 0,
      "outputs": []
    },
    {
      "metadata": {
        "id": "vHCzVt_ddU8F",
        "colab_type": "code",
        "colab": {
          "base_uri": "https://localhost:8080/",
          "height": 51
        },
        "outputId": "2177b21d-dd82-4dd4-e3ac-0765f3ff93f5"
      },
      "cell_type": "code",
      "source": [
        "optimize_and_plot_steps(0.1, weights)"
      ],
      "execution_count": 125,
      "outputs": [
        {
          "output_type": "stream",
          "text": [
            "Найденный локальный минимум: [287.00481435300225, 2618.1135636022345]\n",
            "Количество шагов: 1\n"
          ],
          "name": "stdout"
        }
      ]
    },
    {
      "metadata": {
        "id": "9H-42wqtiBFV",
        "colab_type": "text"
      },
      "cell_type": "markdown",
      "source": [
        "Измените функцию минимизации так, чтобы темп обучения мог меняться динамически, аналогично примеру выше. Запустите функцию и прокомментируйте результаты."
      ]
    },
    {
      "metadata": {
        "id": "obO7ehbJiBFV",
        "colab_type": "text"
      },
      "cell_type": "markdown",
      "source": [
        "## Линейная регрессия с батч-оптимизацией\n",
        "\n",
        "Теперь рассмотрим случай, когда данных в выборке много. В таких случаях используется стохастическая или батч-оптимизация. Первая состоит в том, что на каждом шаге итерации берется один объект, вторая — в том, что берется некоторое небольшое фиксированное количество объектов."
      ]
    },
    {
      "metadata": {
        "id": "5lSbxidYiBFW",
        "colab_type": "text"
      },
      "cell_type": "markdown",
      "source": [
        "Загрузите данные из файла space_ga.csv и нормализуйте их. Мы будем предсказывать первый столбец по шести остальным. Эти данные получены с выборов в США в 1980 году. Подробнее о столбцах можно прочитать тут: http://mldata.org/repository/data/viewslug/statlib-20050214-space_ga/"
      ]
    },
    {
      "metadata": {
        "id": "gKtf8mVMiBFW",
        "colab_type": "code",
        "colab": {}
      },
      "cell_type": "code",
      "source": [
        ""
      ],
      "execution_count": 0,
      "outputs": []
    },
    {
      "metadata": {
        "id": "WKSZqyZriBFY",
        "colab_type": "text"
      },
      "cell_type": "markdown",
      "source": [
        "Как вы могли заметить, датасет больше предыдущего. На нём мы попробуем батч-оптимизацию.\n",
        "\n",
        "Измените функцию минимизации так, чтобы на вход они принимала дополнительный параметр — размер батча. Для простоты проверки рекомендуется изменять копию функции, реализованной выше, с измененным именем. Запустите функцию при разных размерах батча. Прокомментируйте результаты."
      ]
    },
    {
      "metadata": {
        "id": "A5CXp3TRiBFZ",
        "colab_type": "code",
        "colab": {}
      },
      "cell_type": "code",
      "source": [
        ""
      ],
      "execution_count": 0,
      "outputs": []
    }
  ]
}